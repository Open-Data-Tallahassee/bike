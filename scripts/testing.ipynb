{
 "cells": [
  {
   "cell_type": "markdown",
   "id": "85dae302",
   "metadata": {},
   "source": [
    "# Processing Routes: from KML to GeoJSON"
   ]
  },
  {
   "cell_type": "code",
   "execution_count": 25,
   "id": "de7dd0c8",
   "metadata": {},
   "outputs": [],
   "source": [
    "# install libraries\n",
    "# !pip install kml2geojson"
   ]
  },
  {
   "cell_type": "code",
   "execution_count": 4,
   "id": "58ad7a62",
   "metadata": {},
   "outputs": [],
   "source": [
    "# import libraries\n",
    "\n",
    "import pandas as pd\n",
    "import os\n",
    "import kml2geojson\n",
    "from osgeo import gdal, ogr"
   ]
  },
  {
   "cell_type": "code",
   "execution_count": 29,
   "id": "b11a0b00",
   "metadata": {},
   "outputs": [
    {
     "name": "stdout",
     "output_type": "stream",
     "text": [
      "florida-highway-safety-to-publix-on-park.kml\n"
     ]
    },
    {
     "ename": "ValueError",
     "evalue": "style type must be one of ['svg', 'leaflet']",
     "output_type": "error",
     "traceback": [
      "\u001b[0;31m---------------------------------------------------------------------------\u001b[0m",
      "\u001b[0;31mValueError\u001b[0m                                Traceback (most recent call last)",
      "\u001b[0;32m/var/folders/hl/5vgjw5l925q71n0d_fv_g5rh0000gn/T/ipykernel_38525/3942319698.py\u001b[0m in \u001b[0;36m<module>\u001b[0;34m\u001b[0m\n\u001b[1;32m     12\u001b[0m         \u001b[0mIN_filename\u001b[0m \u001b[0;34m=\u001b[0m \u001b[0mIN\u001b[0m \u001b[0;34m+\u001b[0m \u001b[0;34m\"/\"\u001b[0m \u001b[0;34m+\u001b[0m \u001b[0mfile\u001b[0m\u001b[0;34m\u001b[0m\u001b[0;34m\u001b[0m\u001b[0m\n\u001b[1;32m     13\u001b[0m         \u001b[0mOUT_filename\u001b[0m \u001b[0;34m=\u001b[0m \u001b[0mOUT\u001b[0m \u001b[0;34m+\u001b[0m \u001b[0;34m\"/\"\u001b[0m \u001b[0;34m+\u001b[0m \u001b[0mfilename\u001b[0m\u001b[0;34m\u001b[0m\u001b[0;34m\u001b[0m\u001b[0m\n\u001b[0;32m---> 14\u001b[0;31m         \u001b[0mkml2geojson\u001b[0m\u001b[0;34m.\u001b[0m\u001b[0mmain\u001b[0m\u001b[0;34m.\u001b[0m\u001b[0mconvert\u001b[0m\u001b[0;34m(\u001b[0m\u001b[0mIN_filename\u001b[0m\u001b[0;34m,\u001b[0m \u001b[0mOUT_filename\u001b[0m\u001b[0;34m)\u001b[0m\u001b[0;34m\u001b[0m\u001b[0;34m\u001b[0m\u001b[0m\n\u001b[0m\u001b[1;32m     15\u001b[0m     \u001b[0;32melse\u001b[0m\u001b[0;34m:\u001b[0m\u001b[0;34m\u001b[0m\u001b[0;34m\u001b[0m\u001b[0m\n\u001b[1;32m     16\u001b[0m         \u001b[0;32mpass\u001b[0m\u001b[0;34m\u001b[0m\u001b[0;34m\u001b[0m\u001b[0m\n",
      "\u001b[0;32m~/opt/anaconda3/envs/dev/lib/python3.8/site-packages/kml2geojson/main.py\u001b[0m in \u001b[0;36mconvert\u001b[0;34m(kml_path, style_type, separate_folders)\u001b[0m\n\u001b[1;32m    562\u001b[0m         \u001b[0;31m# Build style dictionary\u001b[0m\u001b[0;34m\u001b[0m\u001b[0;34m\u001b[0m\u001b[0;34m\u001b[0m\u001b[0m\n\u001b[1;32m    563\u001b[0m         \u001b[0;32mif\u001b[0m \u001b[0mstyle_type\u001b[0m \u001b[0;32mnot\u001b[0m \u001b[0;32min\u001b[0m \u001b[0mSTYLE_TYPES\u001b[0m\u001b[0;34m:\u001b[0m\u001b[0;34m\u001b[0m\u001b[0;34m\u001b[0m\u001b[0m\n\u001b[0;32m--> 564\u001b[0;31m             \u001b[0;32mraise\u001b[0m \u001b[0mValueError\u001b[0m\u001b[0;34m(\u001b[0m\u001b[0;34mf\"style type must be one of {STYLE_TYPES}\"\u001b[0m\u001b[0;34m)\u001b[0m\u001b[0;34m\u001b[0m\u001b[0;34m\u001b[0m\u001b[0m\n\u001b[0m\u001b[1;32m    565\u001b[0m         \u001b[0;32melse\u001b[0m\u001b[0;34m:\u001b[0m\u001b[0;34m\u001b[0m\u001b[0;34m\u001b[0m\u001b[0m\n\u001b[1;32m    566\u001b[0m             \u001b[0mbuilder_name\u001b[0m \u001b[0;34m=\u001b[0m \u001b[0;34mf'build_{style_type}_style'\u001b[0m\u001b[0;34m\u001b[0m\u001b[0;34m\u001b[0m\u001b[0m\n",
      "\u001b[0;31mValueError\u001b[0m: style type must be one of ['svg', 'leaflet']"
     ]
    }
   ],
   "source": [
    "# read in all files in the disconnected folder\n",
    "# convert from kml to geojson \n",
    "# then store in 'processed' folder\n",
    "\n",
    "# IN = r'../routes/raw'\n",
    "# OUT = r'../routes/processed'\n",
    "\n",
    "for file in os.listdir(IN):\n",
    "    if file.endswith('.kml'):\n",
    "        print(file)\n",
    "        filename = file.split('.')[0]\n",
    "        IN_filename = IN + \"/\" + file\n",
    "        OUT_filename = OUT + \"/\" + filename\n",
    "        kml2geojson.main.convert(IN_filename, OUT_filename)\n",
    "    else:\n",
    "        pass"
   ]
  },
  {
   "cell_type": "code",
   "execution_count": null,
   "id": "ae1fead2",
   "metadata": {},
   "outputs": [],
   "source": []
  },
  {
   "cell_type": "code",
   "execution_count": null,
   "id": "9a36f3f8",
   "metadata": {},
   "outputs": [],
   "source": [
    "# Making a Map from Routes and Markers"
   ]
  }
 ],
 "metadata": {
  "kernelspec": {
   "display_name": "Python [conda env:dev]",
   "language": "python",
   "name": "conda-env-dev-py"
  },
  "language_info": {
   "codemirror_mode": {
    "name": "ipython",
    "version": 3
   },
   "file_extension": ".py",
   "mimetype": "text/x-python",
   "name": "python",
   "nbconvert_exporter": "python",
   "pygments_lexer": "ipython3",
   "version": "3.8.12"
  }
 },
 "nbformat": 4,
 "nbformat_minor": 5
}
